{
 "cells": [
  {
   "cell_type": "code",
   "execution_count": null,
   "metadata": {},
   "outputs": [],
   "source": [
    "combined_chunks = []"
   ]
  },
  {
   "cell_type": "code",
   "execution_count": null,
   "metadata": {},
   "outputs": [],
   "source": [
    "from langchain_chroma import Chroma\n",
    "from langchain_voyageai import VoyageAIEmbeddings\n",
    "import dotenv\n",
    "import chromadb\n",
    "from chromadb.config import DEFAULT_TENANT, DEFAULT_DATABASE, Settings\n",
    "\n",
    "# cell to load database - VERY EXPENSIVE\n",
    "\n",
    "dotenv.load_dotenv()\n",
    "new_client = chromadb.PersistentClient(path = \"./chroma_db\", tenant = DEFAULT_TENANT, database = DEFAULT_DATABASE, settings = Settings())\n",
    "\n",
    "embeddings = VoyageAIEmbeddings(\n",
    "    voyage_api_key=dotenv.get_key(dotenv_path= \".env\", key_to_get = \"VOYAGEAI_KEY\") , model=\"voyage-large-2-instruct\")\n",
    "\n",
    "vectorstore = Chroma.from_documents(documents= combined_chunks , embedding=embeddings, collection_name=\"umich_fa2024\", client=new_client)"
   ]
  }
 ],
 "metadata": {
  "kernelspec": {
   "display_name": "tara",
   "language": "python",
   "name": "python3"
  },
  "language_info": {
   "name": "python",
   "version": "3.9.19"
  }
 },
 "nbformat": 4,
 "nbformat_minor": 2
}
