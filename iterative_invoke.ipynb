{
 "cells": [
  {
   "cell_type": "code",
   "execution_count": 1,
   "id": "140b2349",
   "metadata": {},
   "outputs": [
    {
     "name": "stdout",
     "output_type": "stream",
     "text": [
      "Starting Bot -----------------------------------###\n",
      "Starting iterative chat stream\n",
      "TEST 1\n",
      "TEST 2\n",
      "INITIAL DOCS: [Document(id='27744436-b70d-4d11-95bd-38c8d3bc9359', metadata={'filename': 'Stress.pdf', 'source': 'rag_docs/Stress.pdf'}, page_content=' Stress \\n Stress is the natural reaction your body has when changes or challenges occur. It can result in \\n many different physical, emotional, and behavioral responses. Everyone experiences stress \\n from time to time. You can’t avoid it. But stress management techniques can help you deal with \\n it. \\n **What is stress?** \\n Stress is a natural human reaction that happens to everyone. In fact, your body is designed to \\n experience stress and react to it. When you experience changes or challenges (stressors), your \\n body produces physical and mental responses. \\n **Types of stress** \\n There are three main kinds of stress: \\n - **Acute stress:** Short-term stress that comes and goes quickly (e.g., riding a rollercoaster, an \\n argument). \\n - **Episodic acute stress:** Frequent acute stress (common in high-pressure jobs like \\n healthcare). \\n - **Chronic stress:** Long-term stress lasting weeks/months (e.g., financial problems, work \\n issues). \\n **Symptoms of Stress** \\n - **Physical:** Headaches, dizziness, high blood pressure, digestive issues, chest pain, muscle \\n tension, weakened immune system. \\n - **Psychological:** Anxiety, irritability, depression, panic attacks, sadness. \\n - **Behavioral:** Overeating, substance use, gambling, compulsive behaviors (shopping, \\n internet browsing). \\n **Stress Rash** \\n Pink or discolored raised bumps (hives) triggered by stress. More common in women aged \\n 20–40. Treatable with antihistamines, but stress management is key. \\n **Causes of Stress** \\n - Life changes (marriage, divorce, moving, retirement). \\n - Work/school pressures (exams, presentations). \\n - Daily hassles (traffic, running late). \\n **Complications of Chronic Stress** \\n - Immune system: Arthritis, fibromyalgia. \\n - Digestive system: Ulcers, IBS. \\n - Cardiovascular: High blood pressure, heart palpitations. \\n - Mental health: Depression, anxiety. \\n **Diagnosis**  Stress is subjective; healthcare providers may use questionnaires. Chronic stress symptoms \\n (e.g., hypertension) can be medically evaluated. \\n **Stress Relief & Prevention** \\n - Exercise (even short walks help). \\n - Set daily/weekly goals. \\n - Practice gratitude and relaxation (meditation, yoga). \\n - Prioritize sleep, nutrition, and social connections. \\n - Learn to say \"no\" and accept uncontrollable situations. \\n **When to Seek Help** \\n - Feeling overwhelmed. \\n - Physical health decline. \\n - Symptoms persist despite self-care. \\n - Using drugs/alcohol to cope. \\n **Prognosis** \\n Stress can be short-term or chronic. Management techniques can mitigate its effects. '), Document(id='62e77b36-e14e-44be-96bf-228a75e82887', metadata={'filename': 'Stress.pdf', 'source': 'rag_docs/Stress.pdf'}, page_content=' Stress \\n Stress is the natural reaction your body has when changes or challenges occur. It can result in \\n many different physical, emotional, and behavioral responses. Everyone experiences stress \\n from time to time. You can’t avoid it. But stress management techniques can help you deal with \\n it. \\n **What is stress?** \\n Stress is a natural human reaction that happens to everyone. In fact, your body is designed to \\n experience stress and react to it. When you experience changes or challenges (stressors), your \\n body produces physical and mental responses. \\n **Types of stress** \\n There are three main kinds of stress: \\n - **Acute stress:** Short-term stress that comes and goes quickly (e.g., riding a rollercoaster, an \\n argument). \\n - **Episodic acute stress:** Frequent acute stress (common in high-pressure jobs like \\n healthcare). \\n - **Chronic stress:** Long-term stress lasting weeks/months (e.g., financial problems, work \\n issues). \\n **Symptoms of Stress** \\n - **Physical:** Headaches, dizziness, high blood pressure, digestive issues, chest pain, muscle \\n tension, weakened immune system. \\n - **Psychological:** Anxiety, irritability, depression, panic attacks, sadness. \\n - **Behavioral:** Overeating, substance use, gambling, compulsive behaviors (shopping, \\n internet browsing). \\n **Stress Rash** \\n Pink or discolored raised bumps (hives) triggered by stress. More common in women aged \\n 20–40. Treatable with antihistamines, but stress management is key. \\n **Causes of Stress** \\n - Life changes (marriage, divorce, moving, retirement). \\n - Work/school pressures (exams, presentations). \\n - Daily hassles (traffic, running late). \\n **Complications of Chronic Stress** \\n - Immune system: Arthritis, fibromyalgia. \\n - Digestive system: Ulcers, IBS. \\n - Cardiovascular: High blood pressure, heart palpitations. \\n - Mental health: Depression, anxiety. \\n **Diagnosis**  Stress is subjective; healthcare providers may use questionnaires. Chronic stress symptoms \\n (e.g., hypertension) can be medically evaluated. \\n **Stress Relief & Prevention** \\n - Exercise (even short walks help). \\n - Set daily/weekly goals. \\n - Practice gratitude and relaxation (meditation, yoga). \\n - Prioritize sleep, nutrition, and social connections. \\n - Learn to say \"no\" and accept uncontrollable situations. \\n **When to Seek Help** \\n - Feeling overwhelmed. \\n - Physical health decline. \\n - Symptoms persist despite self-care. \\n - Using drugs/alcohol to cope. \\n **Prognosis** \\n Stress can be short-term or chronic. Management techniques can mitigate its effects. ')]\n",
      "DOC TYPES: [<class 'langchain_core.documents.base.Document'>, <class 'langchain_core.documents.base.Document'>]\n",
      "Creating new chat history for session_id abc123\n"
     ]
    }
   ],
   "source": [
    "from iterative_rag import IterativeRagMentalHealthBot\n",
    "from llm_response import MentalHealthBot\n",
    "\n",
    "query = \"I am feeling very confused.\"\n",
    "\n",
    "bot = IterativeRagMentalHealthBot()\n",
    "response = bot.iterative_chat_stream(query)"
   ]
  }
 ],
 "metadata": {
  "kernelspec": {
   "display_name": ".venv",
   "language": "python",
   "name": "python3"
  },
  "language_info": {
   "codemirror_mode": {
    "name": "ipython",
    "version": 3
   },
   "file_extension": ".py",
   "mimetype": "text/x-python",
   "name": "python",
   "nbconvert_exporter": "python",
   "pygments_lexer": "ipython3",
   "version": "3.13.2"
  }
 },
 "nbformat": 4,
 "nbformat_minor": 5
}
