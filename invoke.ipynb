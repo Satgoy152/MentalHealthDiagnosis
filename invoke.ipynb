{
 "cells": [
  {
   "cell_type": "code",
   "execution_count": 3,
   "metadata": {},
   "outputs": [
    {
     "name": "stdout",
     "output_type": "stream",
     "text": [
      "Starting Bot -----------------------------------###\n",
      "Initializing RAG system\n",
      "Initializing LLM\n",
      "Creating RAG chain\n",
      "Creating new chat history for session_id abc123\n"
     ]
    },
    {
     "name": "stderr",
     "output_type": "stream",
     "text": [
      "/Users/satyamgoyal/anaconda3/envs/hermes/lib/python3.9/site-packages/langsmith/client.py:256: LangSmithMissingAPIKeyWarning: API key must be provided when using hosted LangSmith API\n",
      "  warnings.warn(\n"
     ]
    },
    {
     "name": "stdout",
     "output_type": "stream",
     "text": [
      "Human: I am feeling very anxious and overwhelmed. What should I do?\n",
      "AI: ```json\n",
      "{\n",
      "    \"category\": \"Anxiety\"\n",
      "}\n",
      "```\n",
      "```json\n",
      "{\n",
      "    \"category\": \"Anxiety\"\n",
      "}\n",
      "```\n"
     ]
    }
   ],
   "source": [
    "from llm_response import MentalHealthBot\n",
    "\n",
    "query = \"I am feeling very anxious and overwhelmed. What should I do?\"\n",
    "\n",
    "bot = MentalHealthBot()\n",
    "print(bot.chat_stream(query))"
   ]
  }
 ],
 "metadata": {
  "kernelspec": {
   "display_name": "hermes",
   "language": "python",
   "name": "python3"
  },
  "language_info": {
   "codemirror_mode": {
    "name": "ipython",
    "version": 3
   },
   "file_extension": ".py",
   "mimetype": "text/x-python",
   "name": "python",
   "nbconvert_exporter": "python",
   "pygments_lexer": "ipython3",
   "version": "3.9.21"
  }
 },
 "nbformat": 4,
 "nbformat_minor": 2
}
