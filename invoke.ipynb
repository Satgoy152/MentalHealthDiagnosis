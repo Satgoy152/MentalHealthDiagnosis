{
 "cells": [
  {
   "cell_type": "code",
   "execution_count": null,
   "metadata": {},
   "outputs": [],
   "source": [
    "from llm_response import MentalHealthBot\n",
    "\n",
    "query = \"I am feeling very anxious and overwhelmed. What should I do?\"\n",
    "\n",
    "bot = MentalHealthBot()\n",
    "print(bot.chat_stream(query))"
   ]
  }
 ],
 "metadata": {
  "language_info": {
   "name": "python"
  }
 },
 "nbformat": 4,
 "nbformat_minor": 2
}
